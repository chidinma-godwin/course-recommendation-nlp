{
 "cells": [
  {
   "cell_type": "code",
   "execution_count": 9,
   "id": "3fcd4bb6-edf2-41a0-8fc2-4f0dc431d47a",
   "metadata": {
    "tags": []
   },
   "outputs": [],
   "source": [
    "import os\n",
    "import scrapy"
   ]
  },
  {
   "cell_type": "code",
   "execution_count": 10,
   "id": "bf9ea673-48fd-4934-9ee7-c83257c54a04",
   "metadata": {
    "tags": []
   },
   "outputs": [
    {
     "name": "stdout",
     "output_type": "stream",
     "text": [
      "New Scrapy project 'coursescrapper', using template directory '/Users/Chidex/anaconda3/lib/python3.11/site-packages/scrapy/templates/project', created in:\n",
      "    /Users/Chidex/Documents/UH/course-recommendation-nlp/coursescrapper\n",
      "\n",
      "You can start your first spider with:\n",
      "    cd coursescrapper\n",
      "    scrapy genspider example example.com\n"
     ]
    }
   ],
   "source": [
    "!scrapy startproject coursescrapper"
   ]
  },
  {
   "cell_type": "code",
   "execution_count": 18,
   "id": "5d45eea5-1776-4119-9d3d-08d39c987532",
   "metadata": {
    "tags": []
   },
   "outputs": [],
   "source": [
    "os.chdir(\"coursescrapper/\")"
   ]
  },
  {
   "cell_type": "code",
   "execution_count": 12,
   "id": "a12ceb46-bbdb-4be7-a440-93320e3a6a12",
   "metadata": {},
   "outputs": [
    {
     "name": "stdout",
     "output_type": "stream",
     "text": [
      "Created spider 'courses' using template 'basic' in module:\n",
      "  coursescrapper.spiders.courses\n"
     ]
    }
   ],
   "source": [
    "!scrapy genspider courses classcentral.com/subjects"
   ]
  },
  {
   "cell_type": "code",
   "execution_count": 19,
   "id": "ea43b40d-63b0-4589-a483-10073f7242eb",
   "metadata": {
    "tags": []
   },
   "outputs": [
    {
     "name": "stdout",
     "output_type": "stream",
     "text": [
      "courses\n"
     ]
    }
   ],
   "source": [
    "!scrapy list"
   ]
  },
  {
   "cell_type": "code",
   "execution_count": null,
   "id": "dc8259b1-16eb-4b86-b6a5-bea056a46820",
   "metadata": {},
   "outputs": [],
   "source": [
    "# Run this line after editing the scrapy config and setup files\n",
    "!scrapy crawl courses"
   ]
  }
 ],
 "metadata": {
  "kernelspec": {
   "display_name": "Python 3 (ipykernel)",
   "language": "python",
   "name": "python3"
  },
  "language_info": {
   "codemirror_mode": {
    "name": "ipython",
    "version": 3
   },
   "file_extension": ".py",
   "mimetype": "text/x-python",
   "name": "python",
   "nbconvert_exporter": "python",
   "pygments_lexer": "ipython3",
   "version": "3.11.4"
  }
 },
 "nbformat": 4,
 "nbformat_minor": 5
}
